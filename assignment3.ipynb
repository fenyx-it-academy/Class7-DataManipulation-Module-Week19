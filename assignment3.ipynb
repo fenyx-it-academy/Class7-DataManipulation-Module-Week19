{
 "cells": [
  {
   "attachments": {},
   "cell_type": "markdown",
   "metadata": {},
   "source": [
    "## Data Manipulation module\n",
    "### Homework assignment 3\n",
    "\n",
    "Welcome to the first homework assignment of the data manipulation module. In this assignment you will be working with advanced manipulations for Pandas DataFrames. \n",
    "\n",
    "### Instructions\n",
    "Read the exercises carefully and implement the requested functionality. Add your code in the cells provided with `YOUR CODE HERE`. You can add cells if you need to.\n",
    "\n",
    "### Hand-in\n",
    "To hand in your assignment, fork this notebook and commit your changes, then make a pull request to the original repository. The deadline for handing in the assignment is **Wednesday 01-02 23:59**."
   ]
  },
  {
   "cell_type": "code",
   "execution_count": 118,
   "metadata": {},
   "outputs": [],
   "source": [
    "import pandas as pd\n",
    "import numpy as np"
   ]
  },
  {
   "attachments": {},
   "cell_type": "markdown",
   "metadata": {},
   "source": [
    "Download the `country_vaccinations.csv` file from the following [kaggle page](https://www.kaggle.com/datasets/gpreda/covid-world-vaccination-progress). We load it in in the following cell, make sure to set the correct path. The rest of the assignment you will be using this dataframe!"
   ]
  },
  {
   "cell_type": "code",
   "execution_count": 119,
   "metadata": {},
   "outputs": [],
   "source": [
    "df = pd.read_csv(\"country_vaccinations.csv\")"
   ]
  },
  {
   "attachments": {},
   "cell_type": "markdown",
   "metadata": {},
   "source": [
    "1. Print some statistics of the dataframe, like the column names and the stats per column, to get a feel for the data."
   ]
  },
  {
   "cell_type": "code",
   "execution_count": 120,
   "metadata": {},
   "outputs": [
    {
     "data": {
      "text/plain": [
       "<bound method NDFrame.describe of            country iso_code        date  total_vaccinations  \\\n",
       "0      Afghanistan      AFG  2021-02-22                 0.0   \n",
       "1      Afghanistan      AFG  2021-02-23                 NaN   \n",
       "2      Afghanistan      AFG  2021-02-24                 NaN   \n",
       "3      Afghanistan      AFG  2021-02-25                 NaN   \n",
       "4      Afghanistan      AFG  2021-02-26                 NaN   \n",
       "...            ...      ...         ...                 ...   \n",
       "86507     Zimbabwe      ZWE  2022-03-25           8691642.0   \n",
       "86508     Zimbabwe      ZWE  2022-03-26           8791728.0   \n",
       "86509     Zimbabwe      ZWE  2022-03-27           8845039.0   \n",
       "86510     Zimbabwe      ZWE  2022-03-28           8934360.0   \n",
       "86511     Zimbabwe      ZWE  2022-03-29           9039729.0   \n",
       "\n",
       "       people_vaccinated  people_fully_vaccinated  daily_vaccinations_raw  \\\n",
       "0                    0.0                      NaN                     NaN   \n",
       "1                    NaN                      NaN                     NaN   \n",
       "2                    NaN                      NaN                     NaN   \n",
       "3                    NaN                      NaN                     NaN   \n",
       "4                    NaN                      NaN                     NaN   \n",
       "...                  ...                      ...                     ...   \n",
       "86507          4814582.0                3473523.0                139213.0   \n",
       "86508          4886242.0                3487962.0                100086.0   \n",
       "86509          4918147.0                3493763.0                 53311.0   \n",
       "86510          4975433.0                3501493.0                 89321.0   \n",
       "86511          5053114.0                3510256.0                105369.0   \n",
       "\n",
       "       daily_vaccinations  total_vaccinations_per_hundred  \\\n",
       "0                     NaN                            0.00   \n",
       "1                  1367.0                             NaN   \n",
       "2                  1367.0                             NaN   \n",
       "3                  1367.0                             NaN   \n",
       "4                  1367.0                             NaN   \n",
       "...                   ...                             ...   \n",
       "86507             69579.0                           57.59   \n",
       "86508             83429.0                           58.25   \n",
       "86509             90629.0                           58.61   \n",
       "86510            100614.0                           59.20   \n",
       "86511            103751.0                           59.90   \n",
       "\n",
       "       people_vaccinated_per_hundred  people_fully_vaccinated_per_hundred  \\\n",
       "0                               0.00                                  NaN   \n",
       "1                                NaN                                  NaN   \n",
       "2                                NaN                                  NaN   \n",
       "3                                NaN                                  NaN   \n",
       "4                                NaN                                  NaN   \n",
       "...                              ...                                  ...   \n",
       "86507                          31.90                                23.02   \n",
       "86508                          32.38                                23.11   \n",
       "86509                          32.59                                23.15   \n",
       "86510                          32.97                                23.20   \n",
       "86511                          33.48                                23.26   \n",
       "\n",
       "       daily_vaccinations_per_million  \\\n",
       "0                                 NaN   \n",
       "1                                34.0   \n",
       "2                                34.0   \n",
       "3                                34.0   \n",
       "4                                34.0   \n",
       "...                               ...   \n",
       "86507                          4610.0   \n",
       "86508                          5528.0   \n",
       "86509                          6005.0   \n",
       "86510                          6667.0   \n",
       "86511                          6874.0   \n",
       "\n",
       "                                                vaccines  \\\n",
       "0      Johnson&Johnson, Oxford/AstraZeneca, Pfizer/Bi...   \n",
       "1      Johnson&Johnson, Oxford/AstraZeneca, Pfizer/Bi...   \n",
       "2      Johnson&Johnson, Oxford/AstraZeneca, Pfizer/Bi...   \n",
       "3      Johnson&Johnson, Oxford/AstraZeneca, Pfizer/Bi...   \n",
       "4      Johnson&Johnson, Oxford/AstraZeneca, Pfizer/Bi...   \n",
       "...                                                  ...   \n",
       "86507  Oxford/AstraZeneca, Sinopharm/Beijing, Sinovac...   \n",
       "86508  Oxford/AstraZeneca, Sinopharm/Beijing, Sinovac...   \n",
       "86509  Oxford/AstraZeneca, Sinopharm/Beijing, Sinovac...   \n",
       "86510  Oxford/AstraZeneca, Sinopharm/Beijing, Sinovac...   \n",
       "86511  Oxford/AstraZeneca, Sinopharm/Beijing, Sinovac...   \n",
       "\n",
       "                     source_name  \\\n",
       "0      World Health Organization   \n",
       "1      World Health Organization   \n",
       "2      World Health Organization   \n",
       "3      World Health Organization   \n",
       "4      World Health Organization   \n",
       "...                          ...   \n",
       "86507         Ministry of Health   \n",
       "86508         Ministry of Health   \n",
       "86509         Ministry of Health   \n",
       "86510         Ministry of Health   \n",
       "86511         Ministry of Health   \n",
       "\n",
       "                                          source_website  \n",
       "0                               https://covid19.who.int/  \n",
       "1                               https://covid19.who.int/  \n",
       "2                               https://covid19.who.int/  \n",
       "3                               https://covid19.who.int/  \n",
       "4                               https://covid19.who.int/  \n",
       "...                                                  ...  \n",
       "86507  https://www.arcgis.com/home/webmap/viewer.html...  \n",
       "86508  https://www.arcgis.com/home/webmap/viewer.html...  \n",
       "86509  https://www.arcgis.com/home/webmap/viewer.html...  \n",
       "86510  https://www.arcgis.com/home/webmap/viewer.html...  \n",
       "86511  https://www.arcgis.com/home/webmap/viewer.html...  \n",
       "\n",
       "[86512 rows x 15 columns]>"
      ]
     },
     "execution_count": 120,
     "metadata": {},
     "output_type": "execute_result"
    }
   ],
   "source": [
    "df.describe"
   ]
  },
  {
   "attachments": {},
   "cell_type": "markdown",
   "metadata": {},
   "source": [
    "2. Pivot the dataframe to have the date as the index. The columns should be the country names. The values should be the daily vaccinations per million."
   ]
  },
  {
   "cell_type": "code",
   "execution_count": 145,
   "metadata": {},
   "outputs": [
    {
     "name": "stdout",
     "output_type": "stream",
     "text": [
      "country     Afghanistan  Albania  Algeria  Andorra  Angola  Anguilla  \\\n",
      "date                                                                   \n",
      "2020-12-03          NaN      NaN      NaN      NaN     NaN       NaN   \n",
      "2020-12-04          NaN      NaN      NaN      NaN     NaN       NaN   \n",
      "2020-12-05          NaN      NaN      NaN      NaN     NaN       NaN   \n",
      "2020-12-06          NaN      NaN      NaN      NaN     NaN       NaN   \n",
      "2020-12-07          NaN      NaN      NaN      NaN     NaN       NaN   \n",
      "...                 ...      ...      ...      ...     ...       ...   \n",
      "2022-03-25          NaN      NaN      NaN      NaN  1007.0     727.0   \n",
      "2022-03-26          NaN      NaN      NaN      NaN     NaN       NaN   \n",
      "2022-03-27          NaN      NaN      NaN      NaN     NaN       NaN   \n",
      "2022-03-28          NaN      NaN      NaN      NaN     NaN       NaN   \n",
      "2022-03-29          NaN      NaN      NaN      NaN     NaN       NaN   \n",
      "\n",
      "country     Antigua and Barbuda  Argentina  Armenia  Aruba  ...  Uruguay  \\\n",
      "date                                                        ...            \n",
      "2020-12-03                  NaN        NaN      NaN    NaN  ...      NaN   \n",
      "2020-12-04                  NaN        NaN      NaN    NaN  ...      NaN   \n",
      "2020-12-05                  NaN        NaN      NaN    NaN  ...      NaN   \n",
      "2020-12-06                  NaN        NaN      NaN    NaN  ...      NaN   \n",
      "2020-12-07                  NaN        NaN      NaN    NaN  ...      NaN   \n",
      "...                         ...        ...      ...    ...  ...      ...   \n",
      "2022-03-25                  NaN     1712.0      NaN  653.0  ...   3425.0   \n",
      "2022-03-26                  NaN     1653.0      NaN  625.0  ...   3418.0   \n",
      "2022-03-27                  NaN     1620.0      NaN  672.0  ...   3417.0   \n",
      "2022-03-28                  NaN     1521.0      NaN  709.0  ...   2990.0   \n",
      "2022-03-29                  NaN     1200.0      NaN  718.0  ...   2897.0   \n",
      "\n",
      "country     Uzbekistan  Vanuatu  Venezuela  Vietnam  Wales  Wallis and Futuna  \\\n",
      "date                                                                            \n",
      "2020-12-03         NaN      NaN        NaN      NaN    NaN                NaN   \n",
      "2020-12-04         NaN      NaN        NaN      NaN    NaN                NaN   \n",
      "2020-12-05         NaN      NaN        NaN      NaN    NaN                NaN   \n",
      "2020-12-06         NaN      NaN        NaN      NaN    NaN                NaN   \n",
      "2020-12-07         NaN      NaN        NaN      NaN    NaN                NaN   \n",
      "...                ...      ...        ...      ...    ...                ...   \n",
      "2022-03-25         NaN      NaN        0.0      NaN  526.0             1172.0   \n",
      "2022-03-26         NaN      NaN        NaN      NaN  479.0             1352.0   \n",
      "2022-03-27         NaN      NaN        NaN      NaN  475.0             1532.0   \n",
      "2022-03-28         NaN      NaN        NaN      NaN  508.0             1713.0   \n",
      "2022-03-29         NaN      NaN        NaN      NaN    NaN                NaN   \n",
      "\n",
      "country     Yemen  Zambia  Zimbabwe  \n",
      "date                                 \n",
      "2020-12-03    NaN     NaN       NaN  \n",
      "2020-12-04    NaN     NaN       NaN  \n",
      "2020-12-05    NaN     NaN       NaN  \n",
      "2020-12-06    NaN     NaN       NaN  \n",
      "2020-12-07    NaN     NaN       NaN  \n",
      "...           ...     ...       ...  \n",
      "2022-03-25    NaN   900.0    4610.0  \n",
      "2022-03-26    NaN   760.0    5528.0  \n",
      "2022-03-27    NaN   765.0    6005.0  \n",
      "2022-03-28    NaN   770.0    6667.0  \n",
      "2022-03-29    NaN   721.0    6874.0  \n",
      "\n",
      "[482 rows x 223 columns]\n"
     ]
    }
   ],
   "source": [
    "df_pivot = df.pivot_table(index='date', columns='country', values='daily_vaccinations_per_million')\n",
    "print(df_pivot)"
   ]
  },
  {
   "attachments": {},
   "cell_type": "markdown",
   "metadata": {},
   "source": [
    "3. Convert the date index to datetime format."
   ]
  },
  {
   "cell_type": "code",
   "execution_count": 146,
   "metadata": {},
   "outputs": [],
   "source": [
    "df_pivot.index = pd.to_datetime(df_pivot.index)"
   ]
  },
  {
   "attachments": {},
   "cell_type": "markdown",
   "metadata": {},
   "source": [
    "4. Create a new column with the month of the date. You might have to do some googling about the datetime format to find out how to do this."
   ]
  },
  {
   "cell_type": "code",
   "execution_count": 147,
   "metadata": {},
   "outputs": [
    {
     "name": "stdout",
     "output_type": "stream",
     "text": [
      "country     Afghanistan  Albania  Algeria  Andorra  Angola  Anguilla  \\\n",
      "date                                                                   \n",
      "2020-12-03          NaN      NaN      NaN      NaN     NaN       NaN   \n",
      "2020-12-04          NaN      NaN      NaN      NaN     NaN       NaN   \n",
      "2020-12-05          NaN      NaN      NaN      NaN     NaN       NaN   \n",
      "2020-12-06          NaN      NaN      NaN      NaN     NaN       NaN   \n",
      "2020-12-07          NaN      NaN      NaN      NaN     NaN       NaN   \n",
      "...                 ...      ...      ...      ...     ...       ...   \n",
      "2022-03-25          NaN      NaN      NaN      NaN  1007.0     727.0   \n",
      "2022-03-26          NaN      NaN      NaN      NaN     NaN       NaN   \n",
      "2022-03-27          NaN      NaN      NaN      NaN     NaN       NaN   \n",
      "2022-03-28          NaN      NaN      NaN      NaN     NaN       NaN   \n",
      "2022-03-29          NaN      NaN      NaN      NaN     NaN       NaN   \n",
      "\n",
      "country     Antigua and Barbuda  Argentina  Armenia  Aruba  ...  Uzbekistan  \\\n",
      "date                                                        ...               \n",
      "2020-12-03                  NaN        NaN      NaN    NaN  ...         NaN   \n",
      "2020-12-04                  NaN        NaN      NaN    NaN  ...         NaN   \n",
      "2020-12-05                  NaN        NaN      NaN    NaN  ...         NaN   \n",
      "2020-12-06                  NaN        NaN      NaN    NaN  ...         NaN   \n",
      "2020-12-07                  NaN        NaN      NaN    NaN  ...         NaN   \n",
      "...                         ...        ...      ...    ...  ...         ...   \n",
      "2022-03-25                  NaN     1712.0      NaN  653.0  ...         NaN   \n",
      "2022-03-26                  NaN     1653.0      NaN  625.0  ...         NaN   \n",
      "2022-03-27                  NaN     1620.0      NaN  672.0  ...         NaN   \n",
      "2022-03-28                  NaN     1521.0      NaN  709.0  ...         NaN   \n",
      "2022-03-29                  NaN     1200.0      NaN  718.0  ...         NaN   \n",
      "\n",
      "country     Vanuatu  Venezuela  Vietnam  Wales  Wallis and Futuna  Yemen  \\\n",
      "date                                                                       \n",
      "2020-12-03      NaN        NaN      NaN    NaN                NaN    NaN   \n",
      "2020-12-04      NaN        NaN      NaN    NaN                NaN    NaN   \n",
      "2020-12-05      NaN        NaN      NaN    NaN                NaN    NaN   \n",
      "2020-12-06      NaN        NaN      NaN    NaN                NaN    NaN   \n",
      "2020-12-07      NaN        NaN      NaN    NaN                NaN    NaN   \n",
      "...             ...        ...      ...    ...                ...    ...   \n",
      "2022-03-25      NaN        0.0      NaN  526.0             1172.0    NaN   \n",
      "2022-03-26      NaN        NaN      NaN  479.0             1352.0    NaN   \n",
      "2022-03-27      NaN        NaN      NaN  475.0             1532.0    NaN   \n",
      "2022-03-28      NaN        NaN      NaN  508.0             1713.0    NaN   \n",
      "2022-03-29      NaN        NaN      NaN    NaN                NaN    NaN   \n",
      "\n",
      "country     Zambia  Zimbabwe  month  \n",
      "date                                 \n",
      "2020-12-03     NaN       NaN     12  \n",
      "2020-12-04     NaN       NaN     12  \n",
      "2020-12-05     NaN       NaN     12  \n",
      "2020-12-06     NaN       NaN     12  \n",
      "2020-12-07     NaN       NaN     12  \n",
      "...            ...       ...    ...  \n",
      "2022-03-25   900.0    4610.0      3  \n",
      "2022-03-26   760.0    5528.0      3  \n",
      "2022-03-27   765.0    6005.0      3  \n",
      "2022-03-28   770.0    6667.0      3  \n",
      "2022-03-29   721.0    6874.0      3  \n",
      "\n",
      "[482 rows x 224 columns]\n"
     ]
    }
   ],
   "source": [
    "df_pivot['month'] = df_pivot.index.month\n",
    "print(df_pivot)"
   ]
  },
  {
   "attachments": {},
   "cell_type": "markdown",
   "metadata": {},
   "source": [
    "5. Per country calculate the average daily vaccinations per million for each month. The result should be a dataframe with the country names as the index and the months as the columns. The values should be the average daily vaccinations per million. You might need to stack or pivot the table to obtain the correct format."
   ]
  },
  {
   "cell_type": "code",
   "execution_count": 124,
   "metadata": {},
   "outputs": [
    {
     "name": "stdout",
     "output_type": "stream",
     "text": [
      "                             0                                         \\\n",
      "month                       1            2            3            4    \n",
      "country                                                                 \n",
      "Afghanistan         323.806452   305.852941   153.886792   183.700000   \n",
      "Albania            1357.423077  1171.250000   823.363636  3933.466667   \n",
      "Algeria             394.878788   233.375000   410.100000   501.000000   \n",
      "Andorra            7731.216216  2848.053571  2650.636364  7494.566667   \n",
      "Angola             2922.612903  1941.035714   619.854545   364.600000   \n",
      "...                        ...          ...          ...          ...   \n",
      "Wales              3911.384615  4119.553571  4788.288136  7441.800000   \n",
      "Wallis and Futuna   808.387097  1262.000000  5894.333333  8512.100000   \n",
      "Yemen                84.903226    48.178571    45.875000          NaN   \n",
      "Zambia             1183.032258   848.785714  1033.103448    70.562500   \n",
      "Zimbabwe            802.645161   470.473684  1053.333333   799.066667   \n",
      "\n",
      "                                                                        \\\n",
      "month                       5             6            7            8    \n",
      "country                                                                  \n",
      "Afghanistan         231.322581    203.233333   273.096774   479.161290   \n",
      "Albania            3739.580645   2095.700000  2561.225806  3007.419355   \n",
      "Algeria             501.000000    501.000000   501.000000  1857.870968   \n",
      "Andorra            2790.709677  13875.533333  7402.838710  4367.354839   \n",
      "Angola              366.870968    581.300000   166.387097   286.548387   \n",
      "...                        ...           ...          ...          ...   \n",
      "Wales              7108.419355   6978.800000  4488.032258  2060.516129   \n",
      "Wallis and Futuna  8330.548387   1766.733333  1104.935484  1349.161290   \n",
      "Yemen               143.818182    181.400000    45.838710     8.290323   \n",
      "Zambia              214.161290      9.433333   415.645161   297.129032   \n",
      "Zimbabwe           1147.806452    647.633333  2225.967742  3847.612903   \n",
      "\n",
      "                                                                       \n",
      "month                       9            10           11           12  \n",
      "country                                                                \n",
      "Afghanistan         471.066667   862.516129   687.266667   385.741935  \n",
      "Albania            3239.166667  2005.806452  2264.466667  2537.161290  \n",
      "Algeria            2931.666667   745.741935   727.466667   414.419355  \n",
      "Andorra            2795.633333   945.645161   713.133333  5460.000000  \n",
      "Angola             1257.766667  2917.903226  2984.266667  2040.774194  \n",
      "...                        ...          ...          ...          ...  \n",
      "Wales               703.900000  5148.677419  5047.933333  8355.677419  \n",
      "Wallis and Futuna  2004.133333  3009.451613  1415.233333   613.580645  \n",
      "Yemen                81.500000   147.806452    69.400000    63.000000  \n",
      "Zambia              238.166667   342.741935   290.533333   998.483871  \n",
      "Zimbabwe           2535.466667  1313.322581  1500.933333  1452.225806  \n",
      "\n",
      "[223 rows x 12 columns]\n"
     ]
    }
   ],
   "source": [
    "mean = df_pivot.groupby('month').mean()\n",
    "grouped = pd.DataFrame(mean)\n",
    "df_stack = grouped.stack()\n",
    "df_stack = df_stack.to_frame()\n",
    "result = df_stack.pivot_table(index='country', columns='month')\n",
    "print(result)"
   ]
  },
  {
   "attachments": {},
   "cell_type": "markdown",
   "metadata": {},
   "source": [
    "6. Now we will try to obtain the same result, but in one go from the original DataFrame. To do this, take the original dataframe and add the month column as before. Then use Pandas pivot_table method with the correct aggregation function to obtain the same result. "
   ]
  },
  {
   "cell_type": "code",
   "execution_count": 125,
   "metadata": {},
   "outputs": [
    {
     "name": "stdout",
     "output_type": "stream",
     "text": [
      "month                       1            2            3            4   \\\n",
      "country                                                                 \n",
      "Afghanistan         323.806452   305.852941   153.886792   183.700000   \n",
      "Albania            1357.423077  1171.250000   823.363636  3933.466667   \n",
      "Algeria             394.878788   233.375000   410.100000   501.000000   \n",
      "Andorra            7731.216216  2848.053571  2650.636364  7494.566667   \n",
      "Angola             2922.612903  1941.035714   619.854545   364.600000   \n",
      "...                        ...          ...          ...          ...   \n",
      "Wales              3911.384615  4119.553571  4788.288136  7441.800000   \n",
      "Wallis and Futuna   808.387097  1262.000000  5894.333333  8512.100000   \n",
      "Yemen                84.903226    48.178571    45.875000          NaN   \n",
      "Zambia             1183.032258   848.785714  1033.103448    70.562500   \n",
      "Zimbabwe            802.645161   470.473684  1053.333333   799.066667   \n",
      "\n",
      "month                       5             6            7            8   \\\n",
      "country                                                                  \n",
      "Afghanistan         231.322581    203.233333   273.096774   479.161290   \n",
      "Albania            3739.580645   2095.700000  2561.225806  3007.419355   \n",
      "Algeria             501.000000    501.000000   501.000000  1857.870968   \n",
      "Andorra            2790.709677  13875.533333  7402.838710  4367.354839   \n",
      "Angola              366.870968    581.300000   166.387097   286.548387   \n",
      "...                        ...           ...          ...          ...   \n",
      "Wales              7108.419355   6978.800000  4488.032258  2060.516129   \n",
      "Wallis and Futuna  8330.548387   1766.733333  1104.935484  1349.161290   \n",
      "Yemen               143.818182    181.400000    45.838710     8.290323   \n",
      "Zambia              214.161290      9.433333   415.645161   297.129032   \n",
      "Zimbabwe           1147.806452    647.633333  2225.967742  3847.612903   \n",
      "\n",
      "month                       9            10           11           12  \n",
      "country                                                                \n",
      "Afghanistan         471.066667   862.516129   687.266667   385.741935  \n",
      "Albania            3239.166667  2005.806452  2264.466667  2537.161290  \n",
      "Algeria            2931.666667   745.741935   727.466667   414.419355  \n",
      "Andorra            2795.633333   945.645161   713.133333  5460.000000  \n",
      "Angola             1257.766667  2917.903226  2984.266667  2040.774194  \n",
      "...                        ...          ...          ...          ...  \n",
      "Wales               703.900000  5148.677419  5047.933333  8355.677419  \n",
      "Wallis and Futuna  2004.133333  3009.451613  1415.233333   613.580645  \n",
      "Yemen                81.500000   147.806452    69.400000    63.000000  \n",
      "Zambia              238.166667   342.741935   290.533333   998.483871  \n",
      "Zimbabwe           2535.466667  1313.322581  1500.933333  1452.225806  \n",
      "\n",
      "[223 rows x 12 columns]\n"
     ]
    }
   ],
   "source": [
    "#df = df.to_frame()\n",
    "df[\"date\"] = pd.to_datetime(df[\"date\"])\n",
    "df[\"month\"] = df[\"date\"].dt.month\n",
    "result = df.pivot_table(index=\"country\", columns=\"month\", values=\"daily_vaccinations_per_million\")\n",
    "print(result)"
   ]
  },
  {
   "cell_type": "markdown",
   "metadata": {},
   "source": []
  },
  {
   "attachments": {},
   "cell_type": "markdown",
   "metadata": {},
   "source": [
    "7. Now take the dataframe you obtained in exercise 4. Rerun some cells if you need or copy paste some code. We want to get back the original format with a ranged index (0, 1, 2, ...) and a column with country names, a column with the date and a column with the month. Use a combination of stacking, unstacking and reseting the index to obtain this result. "
   ]
  },
  {
   "cell_type": "code",
   "execution_count": 149,
   "metadata": {},
   "outputs": [
    {
     "name": "stdout",
     "output_type": "stream",
     "text": [
      "            date               country       0\n",
      "0     2020-12-03                Norway     0.0\n",
      "1     2020-12-03                 month    12.0\n",
      "2     2020-12-04                Norway     0.0\n",
      "3     2020-12-04                 month    12.0\n",
      "4     2020-12-05                Latvia     0.0\n",
      "...          ...                   ...     ...\n",
      "86690 2022-03-29  United Arab Emirates   845.0\n",
      "86691 2022-03-29               Uruguay  2897.0\n",
      "86692 2022-03-29                Zambia   721.0\n",
      "86693 2022-03-29              Zimbabwe  6874.0\n",
      "86694 2022-03-29                 month     3.0\n",
      "\n",
      "[86695 rows x 3 columns]\n"
     ]
    }
   ],
   "source": [
    "\n",
    "new_df = df_pivot.stack().reset_index()\n",
    "print(new_df)\n"
   ]
  },
  {
   "attachments": {},
   "cell_type": "markdown",
   "metadata": {},
   "source": [
    "8. Obtain the same result as in exercise 7, but now use the melt method to obtain the result."
   ]
  },
  {
   "cell_type": "code",
   "execution_count": 141,
   "metadata": {},
   "outputs": [
    {
     "name": "stdout",
     "output_type": "stream",
     "text": [
      "             date  month   country   value\n",
      "0      2020-12-03     12   level_0     0.0\n",
      "1      2020-12-04     12   level_0     1.0\n",
      "2      2020-12-05     12   level_0     2.0\n",
      "3      2020-12-06     12   level_0     3.0\n",
      "4      2020-12-07     12   level_0     4.0\n",
      "...           ...    ...       ...     ...\n",
      "108445 2022-03-25      3  Zimbabwe  4610.0\n",
      "108446 2022-03-26      3  Zimbabwe  5528.0\n",
      "108447 2022-03-27      3  Zimbabwe  6005.0\n",
      "108448 2022-03-28      3  Zimbabwe  6667.0\n",
      "108449 2022-03-29      3  Zimbabwe  6874.0\n",
      "\n",
      "[108450 rows x 4 columns]\n"
     ]
    }
   ],
   "source": [
    "melted_df = df_pivot.melt(id_vars = [\"date\",\"month\"])\n",
    "\n",
    "print(melted_df)"
   ]
  }
 ],
 "metadata": {
  "kernelspec": {
   "display_name": "Python 3",
   "language": "python",
   "name": "python3"
  },
  "language_info": {
   "codemirror_mode": {
    "name": "ipython",
    "version": 3
   },
   "file_extension": ".py",
   "mimetype": "text/x-python",
   "name": "python",
   "nbconvert_exporter": "python",
   "pygments_lexer": "ipython3",
   "version": "3.10.6"
  },
  "orig_nbformat": 4,
  "vscode": {
   "interpreter": {
    "hash": "2a43ee3d7d2dcb959f5e341b2be34c0d4938f617b78d89f3ab10ae269e68827d"
   }
  }
 },
 "nbformat": 4,
 "nbformat_minor": 2
}
